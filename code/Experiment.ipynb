{
 "cells": [
  {
   "cell_type": "code",
   "execution_count": 2,
   "metadata": {},
   "outputs": [],
   "source": [
    "import numpy as np\n",
    "\n",
    "def is_pos_def(x):\n",
    "    counter = 0\n",
    "    for i in np.linalg.eigvals(x):\n",
    "        #print(i)\n",
    "        if i < -0.000000001:\n",
    "            counter += 1\n",
    "    if counter == 0:\n",
    "        return True\n",
    "    else:\n",
    "        return False"
   ]
  },
  {
   "cell_type": "code",
   "execution_count": 3,
   "metadata": {},
   "outputs": [],
   "source": [
    "import pandas as pd\n",
    "from dtaidistance import dtw\n",
    "\n",
    "dataset = pd.read_csv('wine.txt', sep = '  ', engine='python', header = None)\n",
    "dataset = dataset.iloc[:, :-1].values\n",
    "data_train = dataset[:, 1:101]\n",
    "target_train = dataset[:, 0]"
   ]
  },
  {
   "cell_type": "code",
   "execution_count": 4,
   "metadata": {},
   "outputs": [
    {
     "data": {
      "text/plain": [
       "array([1., 1., 1., 1., 1., 1., 1., 1., 1., 1., 1., 1., 1., 1., 1., 1., 1.,\n",
       "       1., 1., 1., 1., 1., 1., 1., 1., 1., 1., 1., 1., 1., 2., 2., 2., 2.,\n",
       "       2., 2., 2., 2., 2., 2., 2., 2., 2., 2., 2., 2., 2., 2., 2., 2., 2.,\n",
       "       2., 2., 2., 2., 2., 2., 1., 1., 1., 1., 1., 1., 1., 1., 1., 1., 1.,\n",
       "       1., 1., 1., 1., 1., 1., 1., 1., 1., 1., 1., 1., 1., 1., 1., 1., 2.,\n",
       "       2., 2., 2., 2., 2., 2., 2., 2., 2., 2., 2., 2., 2., 2., 2., 2., 2.,\n",
       "       2., 2., 2., 2., 2., 2., 2., 2., 2.])"
      ]
     },
     "execution_count": 4,
     "metadata": {},
     "output_type": "execute_result"
    }
   ],
   "source": [
    "cou = 0\n",
    "cov = 0\n",
    "for i in target_train:\n",
    "    if i == 1:\n",
    "        cou += 1\n",
    "    elif i ==\n",
    "        cov += 1"
   ]
  },
  {
   "cell_type": "code",
   "execution_count": 146,
   "metadata": {},
   "outputs": [
    {
     "name": "stdout",
     "output_type": "stream",
     "text": [
      "[[0.         0.07605102 0.1179844  ... 0.23702952 0.25069143 0.2368523 ]\n",
      " [0.07605102 0.         0.0524061  ... 0.22504921 0.23135172 0.22448142]\n",
      " [0.1179844  0.0524061  0.         ... 0.21337447 0.2130119  0.21202211]\n",
      " ...\n",
      " [0.23702952 0.22504921 0.21337447 ... 0.         0.04356678 0.03084929]\n",
      " [0.25069143 0.23135172 0.2130119  ... 0.04356678 0.         0.02951089]\n",
      " [0.2368523  0.22448142 0.21202211 ... 0.03084929 0.02951089 0.        ]]\n"
     ]
    }
   ],
   "source": [
    "import pandas as pd\n",
    "from dtaidistance import dtw\n",
    "\n",
    "dataset = pd.read_csv('wine.txt', sep = '  ', engine='python', header = None)\n",
    "dataset = dataset.iloc[:, :-1].values\n",
    "data_train = dataset[:, 1:101]\n",
    "target_train = dataset[:, 0]\n",
    "l = len(data_train)\n",
    "D_train = np.zeros((l, l))\n",
    "for i in range(l):\n",
    "    for j in range(l):\n",
    "        D_train[i][j] = dtw.distance(data_train[i], data_train[j])\n",
    "print(D_train)\n"
   ]
  },
  {
   "cell_type": "code",
   "execution_count": 147,
   "metadata": {},
   "outputs": [
    {
     "data": {
      "text/plain": [
       "False"
      ]
     },
     "execution_count": 147,
     "metadata": {},
     "output_type": "execute_result"
    }
   ],
   "source": [
    "is_pos_def(D_train)"
   ]
  },
  {
   "cell_type": "code",
   "execution_count": 148,
   "metadata": {},
   "outputs": [
    {
     "name": "stdout",
     "output_type": "stream",
     "text": [
      "[[1.         0.92676893 0.88870992 ... 0.788968   0.77826248 0.78910783]\n",
      " [0.92676893 1.         0.94894342 ... 0.79847692 0.79346034 0.79893042]\n",
      " [0.88870992 0.94894342 1.         ... 0.80785356 0.80814652 0.80894681]\n",
      " ...\n",
      " [0.788968   0.79847692 0.80785356 ... 1.         0.95736862 0.96962169]\n",
      " [0.77826248 0.79346034 0.80814652 ... 0.95736862 1.         0.9709203 ]\n",
      " [0.78910783 0.79893042 0.80894681 ... 0.96962169 0.9709203  1.        ]]\n"
     ]
    }
   ],
   "source": [
    "import math\n",
    "A_train = np.zeros((l, l))\n",
    "for i in range(l):\n",
    "    for j in range(l):\n",
    "        A_train[i][j] = math.exp(-D_train[i][j])\n",
    "\n",
    "print(A_train)"
   ]
  },
  {
   "cell_type": "code",
   "execution_count": 149,
   "metadata": {},
   "outputs": [
    {
     "data": {
      "text/plain": [
       "True"
      ]
     },
     "execution_count": 149,
     "metadata": {},
     "output_type": "execute_result"
    }
   ],
   "source": [
    "is_pos_def(A_train)"
   ]
  },
  {
   "cell_type": "code",
   "execution_count": 150,
   "metadata": {},
   "outputs": [],
   "source": [
    "import numpy as np\n",
    "import matplotlib.pyplot as plt\n",
    "\n",
    "from functools import partial\n",
    "from sklearn import svm\n",
    "from sklearn.model_selection import train_test_split\n",
    "\n",
    "# 200 x 2d timeseries of length 100\n",
    "#X = np.random.randn(200, 100, 2)\n",
    "#y = np.random.randint(0, 2, 200)\n",
    "\n",
    "\n",
    "X_train, X_test, y_train, y_test = train_test_split(data_train, target_train, train_size=0.8)\n",
    "\n",
    "x_shape = X_train.shape\n"
   ]
  },
  {
   "cell_type": "code",
   "execution_count": 153,
   "metadata": {},
   "outputs": [],
   "source": [
    "def kernel_matrix(X1, X2, f):\n",
    "    D = [[f(X1[i], X2[j]) for j in range(len(X2))]for i in range(len(X1))]\n",
    "    return np.array(D)\n",
    "\n",
    "#kernel_matrix(X_test, X_test, lambda x, y: ((x - y)**2).sum())"
   ]
  },
  {
   "cell_type": "code",
   "execution_count": 154,
   "metadata": {},
   "outputs": [
    {
     "name": "stdout",
     "output_type": "stream",
     "text": [
      "Train score with l2: 0.500\n",
      "Test score with l2: 0.565\n"
     ]
    }
   ],
   "source": [
    "clf = svm.SVC(kernel=\"precomputed\")\n",
    "clf.fit(kernel_matrix(X_train, X_train, lambda x, y: ((x - y)**2).sum()), y_train)\n",
    "\n",
    "print(f\"Train score with l2: {clf.score(kernel_matrix(X_train, X_train, lambda x, y: ((x - y)**2).sum()), y_train):.3f}\")\n",
    "print(f\"Test score with l2: {clf.score(kernel_matrix(X_test, X_train, lambda x, y: ((x - y)**2).sum()), y_test):.3f}\")"
   ]
  },
  {
   "cell_type": "code",
   "execution_count": 159,
   "metadata": {},
   "outputs": [
    {
     "name": "stdout",
     "output_type": "stream",
     "text": [
      "Train score with DTW: 0.477\n",
      "Test score with DTW: 0.565\n"
     ]
    }
   ],
   "source": [
    "clf = svm.SVC(kernel=\"precomputed\")\n",
    "D = [[dtw.distance(X_train[i], X_train[j]) for j in range (len(X_train))]for i in range(len(X_train))]\n",
    "C = [[dtw.distance(X_test[i], X_train[j]) for j in range (len(X_train))]for i in range(len(X_test))]\n",
    "clf.fit(np.array(D), y_train)\n",
    "\n",
    "print(f\"Train score with DTW: {clf.score(np.array(D), y_train):.3f}\")\n",
    "print(f\"Test score with DTW: {clf.score(np.array(C), y_test):.3f}\")"
   ]
  },
  {
   "cell_type": "code",
   "execution_count": 161,
   "metadata": {},
   "outputs": [
    {
     "name": "stdout",
     "output_type": "stream",
     "text": [
      "Train score with DTW (upgrade): 0.761\n",
      "Test score with DTW: 0.304\n"
     ]
    }
   ],
   "source": [
    "A = np.zeros((len(X_train), len(X_train)))\n",
    "for i in range(len(X_train)):\n",
    "    for j in range(len(X_train)):\n",
    "        A[i][j] = math.exp(-D[i][j])\n",
    "\n",
    "clf = svm.SVC(kernel=\"precomputed\")\n",
    "\n",
    "clf.fit(np.array(A), y_train)\n",
    "\n",
    "print(f\"Train score with DTW (upgrade): {clf.score(np.array(A), y_train):.3f}\")\n",
    "print(f\"Test score with DTW: {clf.score(np.array(C), y_test):.3f}\")\n"
   ]
  },
  {
   "cell_type": "code",
   "execution_count": 1,
   "metadata": {},
   "outputs": [
    {
     "ename": "NameError",
     "evalue": "name 'y_train' is not defined",
     "output_type": "error",
     "traceback": [
      "\u001b[0;31m---------------------------------------------------------------------------\u001b[0m",
      "\u001b[0;31mNameError\u001b[0m                                 Traceback (most recent call last)",
      "\u001b[0;32m<ipython-input-1-231873035b8f>\u001b[0m in \u001b[0;36m<module>\u001b[0;34m\u001b[0m\n\u001b[0;32m----> 1\u001b[0;31m \u001b[0mprint\u001b[0m\u001b[0;34m(\u001b[0m\u001b[0my_train\u001b[0m\u001b[0;34m,\u001b[0m \u001b[0my_test\u001b[0m\u001b[0;34m)\u001b[0m\u001b[0;34m\u001b[0m\u001b[0;34m\u001b[0m\u001b[0m\n\u001b[0m",
      "\u001b[0;31mNameError\u001b[0m: name 'y_train' is not defined"
     ]
    }
   ],
   "source": [
    "print(y_train, y_test)"
   ]
  },
  {
   "cell_type": "code",
   "execution_count": null,
   "metadata": {},
   "outputs": [],
   "source": []
  }
 ],
 "metadata": {
  "kernelspec": {
   "display_name": "Python 3",
   "language": "python",
   "name": "python3"
  },
  "language_info": {
   "codemirror_mode": {
    "name": "ipython",
    "version": 3
   },
   "file_extension": ".py",
   "mimetype": "text/x-python",
   "name": "python",
   "nbconvert_exporter": "python",
   "pygments_lexer": "ipython3",
   "version": "3.6.9"
  }
 },
 "nbformat": 4,
 "nbformat_minor": 4
}
