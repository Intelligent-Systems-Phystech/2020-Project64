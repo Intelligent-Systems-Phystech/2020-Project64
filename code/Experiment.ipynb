{
 "cells": [
  {
   "cell_type": "code",
   "execution_count": 25,
   "metadata": {},
   "outputs": [],
   "source": [
    "import numpy as np\n",
    "\n",
    "def is_pos_def(x):\n",
    "    counter = 0\n",
    "    for i in np.linalg.eigvals(x):\n",
    "        #print(i)\n",
    "        if i < -0.0001:\n",
    "            counter += 1\n",
    "    if counter == 0:\n",
    "        return True\n",
    "    else:\n",
    "        return False"
   ]
  },
  {
   "cell_type": "code",
   "execution_count": 26,
   "metadata": {},
   "outputs": [
    {
     "name": "stdout",
     "output_type": "stream",
     "text": [
      "[[0.         0.57429662 0.42516589 ... 0.39008773 0.66528083 0.6065221 ]\n",
      " [0.57429662 0.         0.37104667 ... 0.37254401 0.30006547 0.34707764]\n",
      " [0.42516589 0.37104667 0.         ... 0.32906845 0.48273798 0.35006481]\n",
      " ...\n",
      " [0.39008773 0.37254401 0.32906845 ... 0.         0.46941068 0.42974104]\n",
      " [0.66528083 0.30006547 0.48273798 ... 0.46941068 0.         0.44756658]\n",
      " [0.6065221  0.34707764 0.35006481 ... 0.42974104 0.44756658 0.        ]]\n"
     ]
    }
   ],
   "source": [
    "import pandas as pd\n",
    "from dtaidistance import dtw\n",
    "\n",
    "dataset = pd.read_csv('coffee.txt', sep = '  ', engine='python', header = None)\n",
    "dataset = dataset.iloc[:, :-1].values\n",
    "data_train = dataset[:, 1:101]\n",
    "target_train = dataset[:, 0]\n",
    "l = len(data_train)\n",
    "D_train = np.zeros((l, l))\n",
    "for i in range(l):\n",
    "    for j in range(l):\n",
    "        D_train[i][j] = dtw.distance(data_train[i], data_train[j])\n",
    "print(D_train)\n"
   ]
  },
  {
   "cell_type": "code",
   "execution_count": 27,
   "metadata": {},
   "outputs": [
    {
     "data": {
      "text/plain": [
       "False"
      ]
     },
     "execution_count": 27,
     "metadata": {},
     "output_type": "execute_result"
    }
   ],
   "source": [
    "is_pos_def(D_train)"
   ]
  },
  {
   "cell_type": "code",
   "execution_count": 28,
   "metadata": {},
   "outputs": [
    {
     "name": "stdout",
     "output_type": "stream",
     "text": [
      "[[1.         0.5631008  0.65366134 ... 0.67699748 0.51412913 0.54524388]\n",
      " [0.5631008  1.         0.69001174 ... 0.68897933 0.74076972 0.70675045]\n",
      " [0.65366134 0.69001174 1.         ... 0.71959376 0.61709149 0.70464242]\n",
      " ...\n",
      " [0.67699748 0.68897933 0.71959376 ... 1.         0.6253707  0.65067757]\n",
      " [0.51412913 0.74076972 0.61709149 ... 0.6253707  1.         0.63918166]\n",
      " [0.54524388 0.70675045 0.70464242 ... 0.65067757 0.63918166 1.        ]]\n"
     ]
    }
   ],
   "source": [
    "import math\n",
    "A_train = np.zeros((l, l))\n",
    "for i in range(l):\n",
    "    for j in range(l):\n",
    "        A_train[i][j] = math.exp(-D_train[i][j])\n",
    "\n",
    "print(A_train)"
   ]
  },
  {
   "cell_type": "code",
   "execution_count": 29,
   "metadata": {},
   "outputs": [
    {
     "data": {
      "text/plain": [
       "True"
      ]
     },
     "execution_count": 29,
     "metadata": {},
     "output_type": "execute_result"
    }
   ],
   "source": [
    "is_pos_def(A_train)"
   ]
  },
  {
   "cell_type": "code",
   "execution_count": 30,
   "metadata": {},
   "outputs": [],
   "source": [
    "import numpy as np\n",
    "import matplotlib.pyplot as plt\n",
    "\n",
    "from functools import partial\n",
    "from sklearn import svm\n",
    "from sklearn.model_selection import train_test_split\n",
    "\n",
    "# 200 x 2d timeseries of length 100\n",
    "#X = np.random.randn(200, 100, 2)\n",
    "#y = np.random.randint(0, 2, 200)\n",
    "\n",
    "\n",
    "X_train, X_test, y_train, y_test = train_test_split(data_train, target_train, train_size=0.8)\n",
    "\n",
    "x_shape = X_train.shape\n"
   ]
  },
  {
   "cell_type": "code",
   "execution_count": 31,
   "metadata": {},
   "outputs": [],
   "source": [
    "def kernel_matrix(X1, X2, f):\n",
    "    D = [[f(X1[i], X2[j]) for j in range(len(X2))]for i in range(len(X1))]\n",
    "    return np.array(D)\n",
    "\n",
    "#kernel_matrix(X_test, X_test, lambda x, y: ((x - y)**2).sum())"
   ]
  },
  {
   "cell_type": "code",
   "execution_count": 32,
   "metadata": {},
   "outputs": [
    {
     "name": "stdout",
     "output_type": "stream",
     "text": [
      "Train score with l2: 0.341\n",
      "Test score with l2: 0.250\n"
     ]
    }
   ],
   "source": [
    "clf = svm.SVC(kernel=\"precomputed\")\n",
    "clf.fit(kernel_matrix(X_train, X_train, lambda x, y: ((x - y)**2).sum()), y_train)\n",
    "\n",
    "print(f\"Train score with l2: {clf.score(kernel_matrix(X_train, X_train, lambda x, y: ((x - y)**2).sum()), y_train):.3f}\")\n",
    "print(f\"Test score with l2: {clf.score(kernel_matrix(X_test, X_train, lambda x, y: ((x - y)**2).sum()), y_test):.3f}\")"
   ]
  },
  {
   "cell_type": "code",
   "execution_count": 33,
   "metadata": {},
   "outputs": [
    {
     "name": "stdout",
     "output_type": "stream",
     "text": [
      "Train score with DTW: 0.341\n",
      "Test score with DTW: 0.250\n"
     ]
    }
   ],
   "source": [
    "clf = svm.SVC(kernel=\"precomputed\")\n",
    "D = [[dtw.distance(X_train[i], X_train[j]) for j in range (len(X_train))]for i in range(len(X_train))]\n",
    "C = [[dtw.distance(X_test[i], X_train[j]) for j in range (len(X_train))]for i in range(len(X_test))]\n",
    "clf.fit(np.array(D), y_train)\n",
    "\n",
    "print(f\"Train score with DTW: {clf.score(np.array(D), y_train):.3f}\")\n",
    "print(f\"Test score with DTW: {clf.score(np.array(C), y_test):.3f}\")"
   ]
  },
  {
   "cell_type": "code",
   "execution_count": 34,
   "metadata": {},
   "outputs": [
    {
     "name": "stdout",
     "output_type": "stream",
     "text": [
      "Train score with DTW (upgrade): 0.864\n",
      "Test score with DTW: 0.250\n"
     ]
    }
   ],
   "source": [
    "A = np.zeros((len(X_train), len(X_train)))\n",
    "for i in range(len(X_train)):\n",
    "    for j in range(len(X_train)):\n",
    "        A[i][j] = math.exp(-D[i][j])\n",
    "\n",
    "clf = svm.SVC(kernel=\"precomputed\")\n",
    "\n",
    "clf.fit(np.array(A), y_train)\n",
    "\n",
    "print(f\"Train score with DTW (upgrade): {clf.score(np.array(A), y_train):.3f}\")\n",
    "print(f\"Test score with DTW: {clf.score(np.array(C), y_test):.3f}\")\n"
   ]
  },
  {
   "cell_type": "code",
   "execution_count": null,
   "metadata": {},
   "outputs": [],
   "source": []
  }
 ],
 "metadata": {
  "kernelspec": {
   "display_name": "Python 3",
   "language": "python",
   "name": "python3"
  },
  "language_info": {
   "codemirror_mode": {
    "name": "ipython",
    "version": 3
   },
   "file_extension": ".py",
   "mimetype": "text/x-python",
   "name": "python",
   "nbconvert_exporter": "python",
   "pygments_lexer": "ipython3",
   "version": "3.6.9"
  }
 },
 "nbformat": 4,
 "nbformat_minor": 4
}
