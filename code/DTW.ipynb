{
 "cells": [
  {
   "cell_type": "code",
   "execution_count": 53,
   "metadata": {},
   "outputs": [],
   "source": [
    "import pandas as pd\n",
    "import numpy as np\n",
    "from dtaidistance import dtw\n",
    "x = pd.read_csv('data_first.txt', header = None)\n",
    "x = x.iloc[:, :-1].values\n",
    "l = len(x)\n",
    "D1 = np.zeros((l, l))\n",
    "for i in range(l):\n",
    "    for j in range(l):\n",
    "        D1[i][j] = dtw.distance(x[i], x[j])\n",
    "\n",
    "\n",
    "    "
   ]
  },
  {
   "cell_type": "code",
   "execution_count": 54,
   "metadata": {},
   "outputs": [
    {
     "data": {
      "text/plain": [
       "False"
      ]
     },
     "execution_count": 54,
     "metadata": {},
     "output_type": "execute_result"
    }
   ],
   "source": [
    "def is_pos_def(x): return np.all(np.linalg.eigvals(x) > 0)\n",
    "is_pos_def(D1)"
   ]
  },
  {
   "cell_type": "code",
   "execution_count": 68,
   "metadata": {},
   "outputs": [],
   "source": [
    "x = pd.read_csv('data_second.txt', sep = '  ', engine='python', header = None)\n",
    "x = x.iloc[:, :-1].values\n",
    "l = len(x)\n",
    "D2 = np.zeros((l, l))\n",
    "for i in range(l):\n",
    "    for j in range(l):\n",
    "        D2[i][j] = dtw.distance(x[i], x[j])\n"
   ]
  },
  {
   "cell_type": "code",
   "execution_count": 69,
   "metadata": {},
   "outputs": [
    {
     "data": {
      "text/plain": [
       "False"
      ]
     },
     "execution_count": 69,
     "metadata": {},
     "output_type": "execute_result"
    }
   ],
   "source": [
    "def is_pos_def(x): return np.all(np.linalg.eigvals(x) > 0)\n",
    "is_pos_def(D2)"
   ]
  },
  {
   "cell_type": "code",
   "execution_count": 74,
   "metadata": {},
   "outputs": [],
   "source": [
    "x = pd.read_csv('data_third.txt', sep = '  ', engine = 'python', header = None)\n",
    "x = x.iloc[:, :-1].values\n",
    "l = len(x)\n",
    "D3 = np.zeros((l, l))\n",
    "for i in range(l):\n",
    "    for j in range(l):\n",
    "        D3[i][j] = dtw.distance(x[i], x[j])\n"
   ]
  },
  {
   "cell_type": "code",
   "execution_count": 75,
   "metadata": {},
   "outputs": [
    {
     "data": {
      "text/plain": [
       "False"
      ]
     },
     "execution_count": 75,
     "metadata": {},
     "output_type": "execute_result"
    }
   ],
   "source": [
    "def is_pos_def(x): return np.all(np.linalg.eigvals(x) > 0)\n",
    "is_pos_def(D3)"
   ]
  },
  {
   "cell_type": "code",
   "execution_count": null,
   "metadata": {},
   "outputs": [],
   "source": []
  }
 ],
 "metadata": {
  "kernelspec": {
   "display_name": "Python 3",
   "language": "python",
   "name": "python3"
  },
  "language_info": {
   "codemirror_mode": {
    "name": "ipython",
    "version": 3
   },
   "file_extension": ".py",
   "mimetype": "text/x-python",
   "name": "python",
   "nbconvert_exporter": "python",
   "pygments_lexer": "ipython3",
   "version": "3.6.9"
  }
 },
 "nbformat": 4,
 "nbformat_minor": 4
}
