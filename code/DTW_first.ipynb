{
 "cells": [
  {
   "cell_type": "code",
   "execution_count": 3,
   "metadata": {},
   "outputs": [],
   "source": [
    "import numpy as np\n",
    "\n",
    "from scipy.spatial.distance import cdist\n",
    "from scipy.stats.mstats import zscore\n",
    "\n",
    "\n",
    "def dtw(x, y, dist, l=1, warp=1, z_normalize=False):\n",
    "\n",
    "    if z_normalize:\n",
    "        x = zscore(x)\n",
    "        y = zscore(y)\n",
    "\n",
    "    series_len = len(x)\n",
    "    distance_cost = np.full((series_len + 1, series_len + 1), np.inf)\n",
    "    distance_cost[0, 0] = 0\n",
    "    ident = int(l * series_len)\n",
    "\n",
    "    pairs = distance_cost[1:, 1:]\n",
    "    for i in range(series_len):\n",
    "        for j in range(max(0, i - ident), min(series_len, i + ident + 1)):\n",
    "            pairs[i, j] = dist(x[i], y[j])\n",
    "\n",
    "    pairwise_distances = pairs.copy()\n",
    "    for i in range(1, series_len + 1):\n",
    "        for j in range(max(1, i - ident), min(series_len + 1, i + ident + 1)):\n",
    "            min_list = []\n",
    "            for k in range(1, warp + 1):\n",
    "                i_k = max(i - k, 0)\n",
    "                j_k = max(j - k, 0)\n",
    "                min_list += [distance_cost[i_k, j], distance_cost[i, j_k], distance_cost[i_k, j_k]]\n",
    "            distance_cost[i, j] += min(min_list)\n",
    "    \n",
    "    path, path_cost = _traceback(distance_cost)\n",
    "            \n",
    "    return path_cost, path, distance_cost[1:, 1:], pairwise_distances\n",
    "\n",
    "\n",
    "def _traceback(D):\n",
    "    i = D.shape[0] - 1\n",
    "    j = D.shape[1] - 1\n",
    "    p, q = [], []\n",
    "    while (i > 0) or (j > 0):\n",
    "        p.insert(0, i)\n",
    "        q.insert(0, j)\n",
    "        tb = np.argmin((D[i - 1, j - 1], D[i, j - 1], D[i - 1, j]))\n",
    "        if tb == 0:\n",
    "            i -= 1\n",
    "            j -= 1\n",
    "        elif tb == 1:\n",
    "            j -= 1\n",
    "        else:\n",
    "            i -= 1\n",
    "            \n",
    "    distance = D[-1, -1]\n",
    "    \n",
    "    return (np.array(p), np.array(q)), distance / len(p)"
   ]
  },
  {
   "cell_type": "code",
   "execution_count": null,
   "metadata": {},
   "outputs": [],
   "source": []
  },
  {
   "cell_type": "code",
   "execution_count": null,
   "metadata": {},
   "outputs": [],
   "source": []
  }
 ],
 "metadata": {
  "kernelspec": {
   "display_name": "Python 3",
   "language": "python",
   "name": "python3"
  },
  "language_info": {
   "codemirror_mode": {
    "name": "ipython",
    "version": 3
   },
   "file_extension": ".py",
   "mimetype": "text/x-python",
   "name": "python",
   "nbconvert_exporter": "python",
   "pygments_lexer": "ipython3",
   "version": "3.7.4"
  }
 },
 "nbformat": 4,
 "nbformat_minor": 2
}
